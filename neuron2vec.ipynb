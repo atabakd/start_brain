{
 "cells": [
  {
   "cell_type": "code",
   "execution_count": null,
   "metadata": {
    "collapsed": true
   },
   "outputs": [],
   "source": [
    "# These are all the modules we'll be using later. Make sure you can import them\n",
    "# before proceeding further.\n",
    "from __future__ import print_function, division, absolute_import\n",
    "import collections\n",
    "import math\n",
    "import numpy as np\n",
    "import os\n",
    "import random\n",
    "import tensorflow as tf\n",
    "import zipfile\n",
    "from matplotlib import pyplot as plt\n",
    "from matplotlib import pylab\n",
    "from six.moves import range\n",
    "from six.moves.urllib.request import urlretrieve\n",
    "from sklearn.manifold import TSNE\n",
    "import time\n",
    "import pandas as pd\n",
    "import warnings\n",
    "import scipy.interpolate as interpolate\n",
    "from matplotlib.colors import Normalize\n",
    "import matplotlib.cm as cm\n",
    "%matplotlib inline"
   ]
  },
  {
   "cell_type": "code",
   "execution_count": null,
   "metadata": {
    "collapsed": true
   },
   "outputs": [],
   "source": [
    "# custom imports\n",
    "import spike_heatmap"
   ]
  },
  {
   "cell_type": "code",
   "execution_count": null,
   "metadata": {
    "collapsed": true
   },
   "outputs": [],
   "source": [
    "base_path = \"./\"\n",
    "template_marking = np.load(os.path.join(base_path, 'template_marking.npy'))\n",
    "spike_times = np.load(os.path.join(base_path, 'spike_times.npy'))\n",
    "spike_templates = np.load(os.path.join(base_path, 'spike_templates.npy'))\n",
    "types = {0: 'Noise', 1: 'SS', 2: 'SS_Contaminated', 3: 'SS_Putative', 4: 'MUA', 5: 'Unspesified_1',\n",
    "             6: 'Unspecified_2',\n",
    "             7: 'Unspecified_3'}"
   ]
  },
  {
   "cell_type": "code",
   "execution_count": null,
   "metadata": {
    "collapsed": true
   },
   "outputs": [],
   "source": [
    "avg_spike_template = np.load(os.path.join(base_path, 'avg_spike_template.npy'))\n",
    "# avg_spike_template"
   ]
  },
  {
   "cell_type": "code",
   "execution_count": null,
   "metadata": {
    "collapsed": true
   },
   "outputs": [],
   "source": [
    "avg_spike_template.shape\n",
    "\n",
    "\n",
    "plt.plot(avg_spike_template[55,...].T)"
   ]
  },
  {
   "cell_type": "code",
   "execution_count": null,
   "metadata": {
    "collapsed": true
   },
   "outputs": [],
   "source": [
    "prb_path = \"prb.txt\"\n",
    "\n",
    "connected = np.squeeze(np.load(os.path.join(base_path, 'channel_map.npy')))\n",
    "number_of_channels_in_binary_file = 1440\n",
    "connected_binary = np.in1d(np.arange(number_of_channels_in_binary_file), connected)\n",
    "bad_channels = np.squeeze(np.argwhere(connected_binary == False).astype(np.int))"
   ]
  },
  {
   "cell_type": "code",
   "execution_count": null,
   "metadata": {
    "collapsed": true
   },
   "outputs": [],
   "source": [
    "def get_loc(template, plot=False):\n",
    "  _, _, _, _, p2p = spike_heatmap.peaktopeak(template, window_size=60)\n",
    "  zlimits = [p2p.min(), p2p.max()]\n",
    "  probe = spike_heatmap.get_probe_geometry_from_prb_file(prb_path)\n",
    "  num_of_shanks = 1\n",
    "  channel_positions = pd.Series(probe[0]['geometry'])\n",
    "  channel_positions = channel_positions.drop(bad_channels)\n",
    "  channel_positions.index = np.arange(len(channel_positions))\n",
    "  total_electrodes = len(channel_positions)\n",
    "  electrodes_per_shank = int(total_electrodes / num_of_shanks)\n",
    "  begin_electrode = 0\n",
    "  end_electrode = electrodes_per_shank\n",
    "  channel_positions_shank = channel_positions[begin_electrode:end_electrode]\n",
    "  data = p2p[channel_positions_shank.index]\n",
    "\n",
    "  hpos = 0\n",
    "  vpos = 0\n",
    "  width = None\n",
    "  height = None\n",
    "  gridscale = 1\n",
    "  interpolation_method = \"bicubic\"\n",
    "\n",
    "  if np.isnan(data).any():\n",
    "    warnings.warn('The data passed to contain NaN values. \\\n",
    "    These will create unexpected results in the interpolation. \\\n",
    "    Deal with them.')\n",
    "  channel_positions = channel_positions.sort_index(ascending=[1])\n",
    "  channel_positions = np.array([[x, y] for x, y in channel_positions.values])\n",
    "\n",
    "  if not width and not height:\n",
    "    x_scaling = 1\n",
    "    y_scaling = 1\n",
    "\n",
    "  chan_x = channel_positions[:, 0] * x_scaling + hpos\n",
    "  chan_y = channel_positions[:, 1] * y_scaling + vpos\n",
    "  chan_x = np.max(chan_x) - chan_x\n",
    "\n",
    "  hlim = [np.min(chan_y), np.max(chan_y)]\n",
    "  vlim = [np.min(chan_x), np.max(chan_x)]\n",
    "\n",
    "  yi, xi = np.mgrid[hlim[0]:hlim[1]:complex(0, gridscale)*(hlim[1]-hlim[0]),\n",
    "                    vlim[0]:vlim[1]:complex(0, gridscale)*(vlim[1]-vlim[0])]\n",
    "\n",
    "  zi = interpolate.griddata((chan_x, chan_y), data, (xi, yi))\n",
    "  \n",
    "\n",
    "  if zlimits is None:\n",
    "      vmin = data.min()\n",
    "      vmax = data.max()\n",
    "  else:\n",
    "      vmin = zlimits[0]\n",
    "      vmax = zlimits[1]\n",
    "  if plot:\n",
    "    cmap = plt.get_cmap(\"jet\")\n",
    "    plt.figure(figsize=(20,70))\n",
    "    image = plt.imshow(zi.T, cmap=cmap, origin=['lower'], vmin=vmin, \n",
    "                        vmax=vmax, interpolation=interpolation_method,\n",
    "                        extent=[hlim[0], hlim[1], vlim[0], vlim[1]],\n",
    "                        aspect='equal').make_image(renderer=None)\n",
    "    plt.show() \n",
    "  return plt.gcf(), zi[:-1,:]"
   ]
  },
  {
   "cell_type": "code",
   "execution_count": null,
   "metadata": {
    "collapsed": true
   },
   "outputs": [],
   "source": [
    "print(\"spike_template shape is {0}\".format(spike_templates.shape))\n",
    "print(\"spike_template max is {0}\".format(spike_templates.max()))\n",
    "print(\"template_marking shape is {0}\".format(template_marking.shape))\n",
    "print(\"spike_template itself is:\")\n",
    "template_marking.shape"
   ]
  },
  {
   "cell_type": "code",
   "execution_count": null,
   "metadata": {
    "collapsed": true
   },
   "outputs": [],
   "source": [
    "start_t = time.time()\n",
    "spike_times_used = list()\n",
    "spike_templates_used = list()\n",
    "for idx, cell in enumerate(spike_templates):\n",
    "  if template_marking[cell]==1:\n",
    "    spike_times_used.append(spike_times[idx])\n",
    "    spike_templates_used.append(cell)\n",
    "print(time.time()-start_t)"
   ]
  },
  {
   "cell_type": "code",
   "execution_count": null,
   "metadata": {
    "collapsed": true
   },
   "outputs": [],
   "source": [
    "spike_times_used = np.array(spike_times_used)\n",
    "spike_templates_used = np.array(spike_templates_used)\n",
    "print(spike_times_used.shape)"
   ]
  },
  {
   "cell_type": "code",
   "execution_count": null,
   "metadata": {
    "collapsed": true
   },
   "outputs": [],
   "source": [
    "np.diff(spike_times_used.squeeze()).mean()"
   ]
  },
  {
   "cell_type": "code",
   "execution_count": null,
   "metadata": {
    "collapsed": true
   },
   "outputs": [],
   "source": [
    "unique = np.unique(spike_templates_used)\n",
    "unique.shape"
   ]
  },
  {
   "cell_type": "code",
   "execution_count": null,
   "metadata": {
    "collapsed": true
   },
   "outputs": [],
   "source": [
    "cell_pos = dict()\n",
    "location_array = np.arange(3589)\n",
    "for i, template in enumerate(unique[:10]):\n",
    "  mplot, heat = get_loc(avg_spike_template[template,...], plot=True)\n",
    "  tmp = np.sum(heat, axis=1)\n",
    "  tmp_max = tmp.max()\n",
    "  tmp[tmp<0.8*tmp_max]=0\n",
    "  cell_pos[template] = np.dot(tmp/tmp.sum(),\n",
    "                              location_array)\n",
    "  tmp[3300:]=0\n",
    "  if (tmp.max()> tmp.mean()+3*tmp.std()) and (tmp.sum() > 0):\n",
    "    cell_pos[template] = np.dot(tmp/tmp.sum(),\n",
    "                                location_array)\n",
    "  print(cell_pos[template])"
   ]
  },
  {
   "cell_type": "code",
   "execution_count": null,
   "metadata": {
    "collapsed": true
   },
   "outputs": [],
   "source": [
    "cell_pos = dict()\n",
    "\n",
    "for i, template in enumerate(unique):\n",
    "  mplot, heat = get_loc(avg_spike_template[template,...])\n",
    "  tmp = np.sum(heat, axis=1)\n",
    "  tmp_max = tmp.max()\n",
    "  tmp[tmp<0.8*tmp_max]=0\n",
    "  cell_pos[template] = np.dot(tmp/tmp.sum(),\n",
    "                              location_array)\n",
    "  tmp[3300:]=0\n",
    "  if (tmp.max()> tmp.mean()+3*tmp.std()) and (tmp.sum() > 0):\n",
    "    cell_pos[template] = np.dot(tmp/tmp.sum(),\n",
    "                                location_array)\n",
    "  if i%100==0:\n",
    "    print(i)"
   ]
  },
  {
   "cell_type": "markdown",
   "metadata": {
    "colab_type": "text",
    "id": "D7tqLMoKF6uq"
   },
   "source": [
    "neuron2vec\n",
    "=============\n",
    "\n",
    "with little modification from udacity tutorial\n",
    "------------\n",
    "\n",
    "The goal of this notebook is to train a Neuron2Vec skip-gram model over spiking data of chronic neuroseeker experiment."
   ]
  },
  {
   "cell_type": "code",
   "execution_count": null,
   "metadata": {
    "cellView": "both",
    "colab": {
     "autoexec": {
      "startup": false,
      "wait_interval": 0
     }
    },
    "colab_type": "code",
    "collapsed": true,
    "id": "0K1ZyLn04QZf"
   },
   "outputs": [],
   "source": [
    "spike_times_used.shape"
   ]
  },
  {
   "cell_type": "markdown",
   "metadata": {
    "colab_type": "text",
    "id": "Zdw6i4F8glpp"
   },
   "source": [
    "Build the dictionary and replace rare templates with 5000 token."
   ]
  },
  {
   "cell_type": "code",
   "execution_count": null,
   "metadata": {
    "cellView": "both",
    "colab": {
     "autoexec": {
      "startup": false,
      "wait_interval": 0
     },
     "output_extras": [
      {
       "item_id": 1
      }
     ]
    },
    "colab_type": "code",
    "collapsed": true,
    "executionInfo": {
     "elapsed": 28849,
     "status": "ok",
     "timestamp": 1445964497178,
     "user": {
      "color": "#1FA15D",
      "displayName": "Vincent Vanhoucke",
      "isAnonymous": false,
      "isMe": true,
      "permissionId": "05076109866853157986",
      "photoUrl": "//lh6.googleusercontent.com/-cCJa7dTDcgQ/AAAAAAAAAAI/AAAAAAAACgw/r2EZ_8oYer4/s50-c-k-no/photo.jpg",
      "sessionId": "2f1ffade4c9f20de",
      "userId": "102167687554210253930"
     },
     "user_tz": 420
    },
    "id": "gAL1EECXeZsD",
    "outputId": "3fb4ecd1-df67-44b6-a2dc-2291730970b2"
   },
   "outputs": [],
   "source": [
    "vocabulary_size = 1200\n",
    "\n",
    "def build_dataset(words):\n",
    "  count = [[5000, -1]]\n",
    "#   count = list()\n",
    "  count.extend(collections.Counter(words).most_common(vocabulary_size - 1))\n",
    "  dictionary = dict()\n",
    "  for word, _ in count:\n",
    "    dictionary[word] = len(dictionary)\n",
    "  data = list()\n",
    "  unk_count = 0\n",
    "  for word in words:\n",
    "    if word in dictionary:     #r\n",
    "      index = dictionary[word]\n",
    "    else:\n",
    "      index = 0  # dictionary['UNK']#r\n",
    "      unk_count = unk_count + 1#r\n",
    "    data.append(index)\n",
    "  count[0][1] = unk_count#r\n",
    "  reverse_dictionary = dict(zip(dictionary.values(), dictionary.keys()))\n",
    "  return data, count, dictionary, reverse_dictionary\n",
    "\n",
    "data, count, dictionary, reverse_dictionary = build_dataset(spike_templates_used.astype(np.uint16).squeeze().tolist())\n",
    "# data, count, dictionary, reverse_dictionary = build_dataset(words)\n",
    "print('Most common words + UNK', count[:5])\n",
    "print('Sample data', data[:10])\n",
    "# del words  # Hint to reduce memory."
   ]
  },
  {
   "cell_type": "markdown",
   "metadata": {
    "colab_type": "text",
    "id": "lFwoyygOmWsL"
   },
   "source": [
    "Function to generate a training batch for the skip-gram model."
   ]
  },
  {
   "cell_type": "code",
   "execution_count": null,
   "metadata": {
    "cellView": "both",
    "colab": {
     "autoexec": {
      "startup": false,
      "wait_interval": 0
     },
     "output_extras": [
      {
       "item_id": 1
      }
     ]
    },
    "colab_type": "code",
    "collapsed": true,
    "executionInfo": {
     "elapsed": 113,
     "status": "ok",
     "timestamp": 1445964901989,
     "user": {
      "color": "#1FA15D",
      "displayName": "Vincent Vanhoucke",
      "isAnonymous": false,
      "isMe": true,
      "permissionId": "05076109866853157986",
      "photoUrl": "//lh6.googleusercontent.com/-cCJa7dTDcgQ/AAAAAAAAAAI/AAAAAAAACgw/r2EZ_8oYer4/s50-c-k-no/photo.jpg",
      "sessionId": "2f1ffade4c9f20de",
      "userId": "102167687554210253930"
     },
     "user_tz": 420
    },
    "id": "w9APjA-zmfjV",
    "outputId": "67cccb02-cdaf-4e47-d489-43bcc8d57bb8"
   },
   "outputs": [],
   "source": [
    "data_index = 0\n",
    "\n",
    "def generate_batch(batch_size, num_skips, skip_window):\n",
    "  global data_index\n",
    "  assert batch_size % num_skips == 0\n",
    "  assert num_skips <= 2 * skip_window\n",
    "  batch = np.ndarray(shape=(batch_size), dtype=np.int32)\n",
    "  labels = np.ndarray(shape=(batch_size, 1), dtype=np.int32)\n",
    "  span = 2 * skip_window + 1 # [ skip_window target skip_window ]\n",
    "  buffer = collections.deque(maxlen=span)\n",
    "  for _ in range(span):\n",
    "    buffer.append(data[data_index])\n",
    "    data_index = (data_index + 1) % len(data)\n",
    "  for i in range(batch_size // num_skips):\n",
    "    target = skip_window  # target label at the center of the buffer\n",
    "    targets_to_avoid = [ skip_window ]\n",
    "    for j in range(num_skips):\n",
    "      while target in targets_to_avoid:\n",
    "        target = random.randint(0, span - 1)\n",
    "      targets_to_avoid.append(target)\n",
    "      batch[i * num_skips + j] = buffer[skip_window]\n",
    "      labels[i * num_skips + j, 0] = buffer[target]\n",
    "    buffer.append(data[data_index])\n",
    "    data_index = (data_index + 1) % len(data)\n",
    "  return batch, labels\n",
    "\n",
    "print('data:', [reverse_dictionary[di] for di in data[:8]])\n",
    "\n",
    "for num_skips, skip_window in [(2, 1), (4, 2)]:\n",
    "    data_index = 0\n",
    "    batch, labels = generate_batch(batch_size=8, num_skips=num_skips, skip_window=skip_window)\n",
    "    print('\\nwith num_skips = %d and skip_window = %d:' % (num_skips, skip_window))\n",
    "    print('    batch:', [reverse_dictionary[bi] for bi in batch])\n",
    "    print('    labels:', [reverse_dictionary[li] for li in labels.reshape(8)])"
   ]
  },
  {
   "cell_type": "code",
   "execution_count": null,
   "metadata": {
    "collapsed": true
   },
   "outputs": [],
   "source": [
    "batch.shape"
   ]
  },
  {
   "cell_type": "markdown",
   "metadata": {
    "colab_type": "text",
    "id": "Ofd1MbBuwiva"
   },
   "source": [
    "Train a skip-gram model."
   ]
  },
  {
   "cell_type": "code",
   "execution_count": null,
   "metadata": {
    "cellView": "both",
    "colab": {
     "autoexec": {
      "startup": false,
      "wait_interval": 0
     }
    },
    "colab_type": "code",
    "collapsed": true,
    "id": "8pQKsV4Vwlzy"
   },
   "outputs": [],
   "source": [
    "batch_size = 256\n",
    "embedding_size = 20 # Dimension of the embedding vector.\n",
    "skip_window = 50 #3 # How many words to consider left and right.\n",
    "num_skips = 64 # How many times to reuse an input to generate a label.\n",
    "num_sampled = 128 # Number of negative examples to sample.\n",
    "\n",
    "graph = tf.Graph()\n",
    "\n",
    "\n",
    "with graph.as_default(), tf.device('/cpu:0'):\n",
    "\n",
    "  # Input data.\n",
    "  train_dataset = tf.placeholder(tf.int32, shape=[batch_size])\n",
    "  train_labels = tf.placeholder(tf.int32, shape=[batch_size, 1])\n",
    "  \n",
    "  # Variables.\n",
    "  embeddings = tf.Variable(\n",
    "    tf.random_uniform([vocabulary_size, embedding_size], -1.0, 1.0))\n",
    "  softmax_weights = tf.Variable(\n",
    "    tf.truncated_normal([vocabulary_size, embedding_size],\n",
    "                         stddev=1.0 / math.sqrt(embedding_size)))\n",
    "  softmax_biases = tf.Variable(tf.zeros([vocabulary_size]))\n",
    "  \n",
    "  # Model.\n",
    "  # Look up embeddings for inputs.\n",
    "  embed = tf.nn.embedding_lookup(embeddings, train_dataset)\n",
    "    \n",
    "  nce_weights = tf.Variable(\n",
    "      tf.truncated_normal([vocabulary_size, embedding_size],\n",
    "                          stddev=1.0 / math.sqrt(embedding_size)))\n",
    "  nce_biases = tf.Variable(tf.zeros([vocabulary_size]))\n",
    "\n",
    "# Compute the average NCE loss for the batch.\n",
    "# tf.nce_loss automatically draws a new sample of the negative labels each\n",
    "# time we evaluate the loss.\n",
    "# Explanation of the meaning of NCE loss:\n",
    "#   http://mccormickml.com/2016/04/19/word2vec-tutorial-the-skip-gram-model/\n",
    "  loss = tf.reduce_mean(\n",
    "      tf.nn.nce_loss(weights=nce_weights,\n",
    "                     biases=nce_biases,\n",
    "                     labels=train_labels,\n",
    "                     inputs=embed,\n",
    "                     num_sampled=num_sampled,\n",
    "                     num_classes=vocabulary_size))\n",
    "\n",
    "  # Optimizer.\n",
    "  # Note: The optimizer will optimize the softmax_weights AND the embeddings.\n",
    "  # This is because the embeddings are defined as a variable quantity and the\n",
    "  # optimizer's `minimize` method will by default modify all variable quantities \n",
    "  # that contribute to the tensor it is passed.\n",
    "  # See docs on `tf.train.Optimizer.minimize()` for more details.\n",
    "#   optimizer = tf.train.AdagradOptimizer(1.0).minimize(loss)\n",
    "  optimizer = tf.train.AdamOptimizer(1e-3).minimize(loss)\n",
    "  \n",
    "  # Compute the similarity between minibatch examples and all embeddings.\n",
    "  # We use the cosine distance:\n",
    "  norm = tf.sqrt(tf.reduce_sum(tf.square(embeddings), 1, keep_dims=True))\n",
    "  normalized_embeddings = embeddings / norm"
   ]
  },
  {
   "cell_type": "code",
   "execution_count": null,
   "metadata": {
    "cellView": "both",
    "colab": {
     "autoexec": {
      "startup": false,
      "wait_interval": 0
     },
     "output_extras": [
      {
       "item_id": 23
      },
      {
       "item_id": 48
      },
      {
       "item_id": 61
      }
     ]
    },
    "colab_type": "code",
    "collapsed": true,
    "executionInfo": {
     "elapsed": 436189,
     "status": "ok",
     "timestamp": 1445965429787,
     "user": {
      "color": "#1FA15D",
      "displayName": "Vincent Vanhoucke",
      "isAnonymous": false,
      "isMe": true,
      "permissionId": "05076109866853157986",
      "photoUrl": "//lh6.googleusercontent.com/-cCJa7dTDcgQ/AAAAAAAAAAI/AAAAAAAACgw/r2EZ_8oYer4/s50-c-k-no/photo.jpg",
      "sessionId": "2f1ffade4c9f20de",
      "userId": "102167687554210253930"
     },
     "user_tz": 420
    },
    "id": "1bQFGceBxrWW",
    "outputId": "5ebd6d9a-33c6-4bcd-bf6d-252b0b6055e4"
   },
   "outputs": [],
   "source": [
    "num_steps = 60001\n",
    "prng=np.random.RandomState(0)\n",
    "idxs = np.arange(batch_size)\n",
    "\n",
    "with tf.Session(graph=graph) as session:\n",
    "  tf.global_variables_initializer().run()\n",
    "  print('Initialized')\n",
    "  average_loss = 0\n",
    "  for step in range(num_steps):\n",
    "    prng.shuffle(idxs)\n",
    "    batch_data, batch_labels = generate_batch(\n",
    "      batch_size, num_skips, skip_window)\n",
    "    batch_data = batch_data[idxs]\n",
    "    batch_labels = batch_labels[idxs]\n",
    "    feed_dict = {train_dataset : batch_data, train_labels : batch_labels}\n",
    "    _, l = session.run([optimizer, loss], feed_dict=feed_dict)\n",
    "    average_loss += l\n",
    "    if step % 2000 == 0:\n",
    "      if step > 0:\n",
    "        average_loss = average_loss / 2000\n",
    "      # The average loss is an estimate of the loss over the last 2000 batches.\n",
    "      print('Average loss at step %d: %f' % (step, average_loss))\n",
    "      average_loss = 0\n",
    "  final_embeddings = normalized_embeddings.eval()"
   ]
  },
  {
   "cell_type": "code",
   "execution_count": null,
   "metadata": {
    "cellView": "both",
    "colab": {
     "autoexec": {
      "startup": false,
      "wait_interval": 0
     }
    },
    "colab_type": "code",
    "collapsed": true,
    "id": "jjJXYA_XzV79"
   },
   "outputs": [],
   "source": [
    "num_points = 200\n",
    "\n",
    "tsne = TSNE(perplexity=30, n_components=2, \n",
    "            init='pca', n_iter=6000, method='exact',\n",
    "            verbose=2)\n",
    "two_d_embeddings = tsne.fit_transform(final_embeddings[1:num_points+1, :])"
   ]
  },
  {
   "cell_type": "code",
   "execution_count": null,
   "metadata": {
    "collapsed": true
   },
   "outputs": [],
   "source": [
    "\n",
    "cmap = cm.rainbow\n",
    "norm = Normalize(vmin=min(cell_pos.values()),\n",
    "                 vmax=max(cell_pos.values()))\n"
   ]
  },
  {
   "cell_type": "code",
   "execution_count": null,
   "metadata": {
    "collapsed": true
   },
   "outputs": [],
   "source": [
    "count_dic = {k:v for k,v in count}"
   ]
  },
  {
   "cell_type": "code",
   "execution_count": null,
   "metadata": {
    "collapsed": true
   },
   "outputs": [],
   "source": [
    "count_dic[5000]"
   ]
  },
  {
   "cell_type": "code",
   "execution_count": null,
   "metadata": {
    "collapsed": true
   },
   "outputs": [],
   "source": [
    "\n",
    "def plot(embeddings, labels):\n",
    "  assert embeddings.shape[0] >= len(labels), 'More labels than embeddings'\n",
    "  plt.figure(figsize=(15,15))  # in inches\n",
    "  mcolors = list()\n",
    "  mcount = list()\n",
    "  for i, label in enumerate(labels):\n",
    "    \n",
    "    mcolors.append(norm(cell_pos[label]))\n",
    "    mcount.append(str(count_dic[label]))\n",
    "    x, y = embeddings[i,:]\n",
    "#     plt.annotate(label, xy=(x, y), xytext=(5, 2), textcoords='offset points',\n",
    "#                    ha='right', va='bottom')\n",
    "    \n",
    "  ticks = [1050/8100, 1930/8100, 3500/8100, 4450/8100, 5760/8100, 6230/8100, 8000/8100]  \n",
    "  mycolors = np.digitize(np.array(mcolors), ticks)\n",
    "    \n",
    "  plt.scatter(embeddings[:,0], embeddings[:,1], c=[ticks[c] for c in mycolors], cmap=cmap)\n",
    "#   plt.scatter(embeddings[:,0], embeddings[:,1], c=mcolors, cmap=cmap) continuous colors\n",
    "  cb = plt.colorbar(ticks=[1050/8100, 1930/8100, 3500/8100, 4450/8100, 5760/8100, 6230/8100, 8000/8100])\n",
    "  cb.ax.set_yticklabels(['SubThalamic', ' Thalamus VPM', 'Thalamus Posterior', \n",
    "                         'Thalamus LPMR', 'Hypocampus DG', 'Hypocampus CA1', 'Parietal Cortex'])\n",
    "  return plt.gcf()\n",
    "\n",
    "\n",
    "words = [reverse_dictionary[i] for i in range(1, num_points+1)]\n",
    "tsne_fig = plot(two_d_embeddings, words)"
   ]
  },
  {
   "cell_type": "code",
   "execution_count": null,
   "metadata": {
    "collapsed": true
   },
   "outputs": [],
   "source": [
    "tsne_fig.savefig('tsne_20.jpg', format='jpg')"
   ]
  }
 ],
 "metadata": {
  "colab": {
   "default_view": {},
   "name": "5_word2vec.ipynb",
   "provenance": [],
   "version": "0.3.2",
   "views": {}
  },
  "kernelspec": {
   "display_name": "Python [default]",
   "language": "python",
   "name": "python2"
  },
  "language_info": {
   "codemirror_mode": {
    "name": "ipython",
    "version": 2
   },
   "file_extension": ".py",
   "mimetype": "text/x-python",
   "name": "python",
   "nbconvert_exporter": "python",
   "pygments_lexer": "ipython2",
   "version": "2.7.13"
  }
 },
 "nbformat": 4,
 "nbformat_minor": 1
}
